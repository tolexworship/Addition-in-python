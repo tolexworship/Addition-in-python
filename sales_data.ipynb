{
  "nbformat": 4,
  "nbformat_minor": 0,
  "metadata": {
    "colab": {
      "provenance": [],
      "collapsed_sections": [],
      "authorship_tag": "ABX9TyPRUxoeVpM+gvWX1JsLRSxI",
      "include_colab_link": true
    },
    "kernelspec": {
      "name": "python3",
      "display_name": "Python 3"
    },
    "language_info": {
      "name": "python"
    }
  },
  "cells": [
    {
      "cell_type": "markdown",
      "metadata": {
        "id": "view-in-github",
        "colab_type": "text"
      },
      "source": [
        "<a href=\"https://colab.research.google.com/github/tolexworship/Addition-in-python/blob/main/sales_data.ipynb\" target=\"_parent\"><img src=\"https://colab.research.google.com/assets/colab-badge.svg\" alt=\"Open In Colab\"/></a>"
      ]
    },
    {
      "cell_type": "markdown",
      "source": [
        "Team members : \n",
        "1. Stephanie Itakpe\n",
        "\n",
        "2. Tolulope Erinosho (WTF/23/DS/D/085), tolulope.erinosho@womentechsters.org\n",
        "\n",
        "\n",
        "\n"
      ],
      "metadata": {
        "id": "8HA1oEaDSy1u"
      }
    },
    {
      "cell_type": "markdown",
      "source": [
        "Background:\n",
        "\n",
        "\n",
        "This competition is designed to help you get started with DataCamp Competitions and familiarize yourself with how competitions work. You work in the accounting department of a company that sells motorcycle parts. The company operates three warehouses in a large metropolitan area. You’ve recently learned data manipulation and plotting, and are helping your colleague analyze past sales data. Your colleague wants to capture sales by payment method. She also needs to know the average unit price for each product line.\n",
        "\n",
        "\n",
        "Create a report to answer your colleague's questions. Include:\n",
        "\n",
        "1. What are the total sales for each payment method?\n",
        "2. What is the average unit price for each product line?\n",
        "3. Create plots to visualize findings for questions 1 and 2.\n",
        "4. [Optional] Investigate further (e.g., average purchase value by client type, total purchase value by product line, etc.)\n",
        "5. Summarize your findings."
      ],
      "metadata": {
        "id": "x--IX56-SaDP"
      }
    },
    {
      "cell_type": "code",
      "execution_count": 38,
      "metadata": {
        "id": "iYqgOdoSrio_"
      },
      "outputs": [],
      "source": [
        "# To import the plot libraries\n",
        "import matplotlib.pyplot as plt\n",
        "import pandas as pd\n",
        "# To read the given data set as a dataframe\n",
        "df = pd.read_csv(\"/content/sales_data.csv\")"
      ]
    },
    {
      "cell_type": "code",
      "source": [
        "# To get information about the dataset, we invoke this syntax\n",
        "df.info()"
      ],
      "metadata": {
        "colab": {
          "base_uri": "https://localhost:8080/"
        },
        "id": "sS28194cr0yn",
        "outputId": "bdfe1e56-736a-4792-a234-29ad34788f44"
      },
      "execution_count": 3,
      "outputs": [
        {
          "output_type": "stream",
          "name": "stdout",
          "text": [
            "<class 'pandas.core.frame.DataFrame'>\n",
            "RangeIndex: 1000 entries, 0 to 999\n",
            "Data columns (total 8 columns):\n",
            " #   Column        Non-Null Count  Dtype  \n",
            "---  ------        --------------  -----  \n",
            " 0   date          1000 non-null   object \n",
            " 1   warehouse     1000 non-null   object \n",
            " 2   client_type   1000 non-null   object \n",
            " 3   product_line  1000 non-null   object \n",
            " 4   quantity      1000 non-null   int64  \n",
            " 5   unit_price    1000 non-null   float64\n",
            " 6   total         1000 non-null   float64\n",
            " 7   payment       1000 non-null   object \n",
            "dtypes: float64(2), int64(1), object(5)\n",
            "memory usage: 62.6+ KB\n"
          ]
        }
      ]
    },
    {
      "cell_type": "code",
      "source": [
        "# To view the first five columns including the header of the dataframe\n",
        "df.head()"
      ],
      "metadata": {
        "colab": {
          "base_uri": "https://localhost:8080/",
          "height": 206
        },
        "id": "1RdQGvVzr3sR",
        "outputId": "873251a9-b25a-4f01-f727-f2f2363845f4"
      },
      "execution_count": 4,
      "outputs": [
        {
          "output_type": "execute_result",
          "data": {
            "text/plain": [
              "         date warehouse client_type           product_line  quantity  \\\n",
              "0  2021-06-01   Central      Retail          Miscellaneous         8   \n",
              "1  2021-06-01     North      Retail        Breaking system         9   \n",
              "2  2021-06-01     North      Retail  Suspension & traction         8   \n",
              "3  2021-06-01     North   Wholesale           Frame & body        16   \n",
              "4  2021-06-01   Central      Retail                 Engine         2   \n",
              "\n",
              "   unit_price   total      payment  \n",
              "0       16.85  134.83  Credit card  \n",
              "1       19.29  173.61         Cash  \n",
              "2       32.93  263.45  Credit card  \n",
              "3       37.84  605.44     Transfer  \n",
              "4       60.48  120.96  Credit card  "
            ],
            "text/html": [
              "\n",
              "  <div id=\"df-e9b3daa2-b9ea-46d6-b7ee-a717a4829ab2\">\n",
              "    <div class=\"colab-df-container\">\n",
              "      <div>\n",
              "<style scoped>\n",
              "    .dataframe tbody tr th:only-of-type {\n",
              "        vertical-align: middle;\n",
              "    }\n",
              "\n",
              "    .dataframe tbody tr th {\n",
              "        vertical-align: top;\n",
              "    }\n",
              "\n",
              "    .dataframe thead th {\n",
              "        text-align: right;\n",
              "    }\n",
              "</style>\n",
              "<table border=\"1\" class=\"dataframe\">\n",
              "  <thead>\n",
              "    <tr style=\"text-align: right;\">\n",
              "      <th></th>\n",
              "      <th>date</th>\n",
              "      <th>warehouse</th>\n",
              "      <th>client_type</th>\n",
              "      <th>product_line</th>\n",
              "      <th>quantity</th>\n",
              "      <th>unit_price</th>\n",
              "      <th>total</th>\n",
              "      <th>payment</th>\n",
              "    </tr>\n",
              "  </thead>\n",
              "  <tbody>\n",
              "    <tr>\n",
              "      <th>0</th>\n",
              "      <td>2021-06-01</td>\n",
              "      <td>Central</td>\n",
              "      <td>Retail</td>\n",
              "      <td>Miscellaneous</td>\n",
              "      <td>8</td>\n",
              "      <td>16.85</td>\n",
              "      <td>134.83</td>\n",
              "      <td>Credit card</td>\n",
              "    </tr>\n",
              "    <tr>\n",
              "      <th>1</th>\n",
              "      <td>2021-06-01</td>\n",
              "      <td>North</td>\n",
              "      <td>Retail</td>\n",
              "      <td>Breaking system</td>\n",
              "      <td>9</td>\n",
              "      <td>19.29</td>\n",
              "      <td>173.61</td>\n",
              "      <td>Cash</td>\n",
              "    </tr>\n",
              "    <tr>\n",
              "      <th>2</th>\n",
              "      <td>2021-06-01</td>\n",
              "      <td>North</td>\n",
              "      <td>Retail</td>\n",
              "      <td>Suspension &amp; traction</td>\n",
              "      <td>8</td>\n",
              "      <td>32.93</td>\n",
              "      <td>263.45</td>\n",
              "      <td>Credit card</td>\n",
              "    </tr>\n",
              "    <tr>\n",
              "      <th>3</th>\n",
              "      <td>2021-06-01</td>\n",
              "      <td>North</td>\n",
              "      <td>Wholesale</td>\n",
              "      <td>Frame &amp; body</td>\n",
              "      <td>16</td>\n",
              "      <td>37.84</td>\n",
              "      <td>605.44</td>\n",
              "      <td>Transfer</td>\n",
              "    </tr>\n",
              "    <tr>\n",
              "      <th>4</th>\n",
              "      <td>2021-06-01</td>\n",
              "      <td>Central</td>\n",
              "      <td>Retail</td>\n",
              "      <td>Engine</td>\n",
              "      <td>2</td>\n",
              "      <td>60.48</td>\n",
              "      <td>120.96</td>\n",
              "      <td>Credit card</td>\n",
              "    </tr>\n",
              "  </tbody>\n",
              "</table>\n",
              "</div>\n",
              "      <button class=\"colab-df-convert\" onclick=\"convertToInteractive('df-e9b3daa2-b9ea-46d6-b7ee-a717a4829ab2')\"\n",
              "              title=\"Convert this dataframe to an interactive table.\"\n",
              "              style=\"display:none;\">\n",
              "        \n",
              "  <svg xmlns=\"http://www.w3.org/2000/svg\" height=\"24px\"viewBox=\"0 0 24 24\"\n",
              "       width=\"24px\">\n",
              "    <path d=\"M0 0h24v24H0V0z\" fill=\"none\"/>\n",
              "    <path d=\"M18.56 5.44l.94 2.06.94-2.06 2.06-.94-2.06-.94-.94-2.06-.94 2.06-2.06.94zm-11 1L8.5 8.5l.94-2.06 2.06-.94-2.06-.94L8.5 2.5l-.94 2.06-2.06.94zm10 10l.94 2.06.94-2.06 2.06-.94-2.06-.94-.94-2.06-.94 2.06-2.06.94z\"/><path d=\"M17.41 7.96l-1.37-1.37c-.4-.4-.92-.59-1.43-.59-.52 0-1.04.2-1.43.59L10.3 9.45l-7.72 7.72c-.78.78-.78 2.05 0 2.83L4 21.41c.39.39.9.59 1.41.59.51 0 1.02-.2 1.41-.59l7.78-7.78 2.81-2.81c.8-.78.8-2.07 0-2.86zM5.41 20L4 18.59l7.72-7.72 1.47 1.35L5.41 20z\"/>\n",
              "  </svg>\n",
              "      </button>\n",
              "      \n",
              "  <style>\n",
              "    .colab-df-container {\n",
              "      display:flex;\n",
              "      flex-wrap:wrap;\n",
              "      gap: 12px;\n",
              "    }\n",
              "\n",
              "    .colab-df-convert {\n",
              "      background-color: #E8F0FE;\n",
              "      border: none;\n",
              "      border-radius: 50%;\n",
              "      cursor: pointer;\n",
              "      display: none;\n",
              "      fill: #1967D2;\n",
              "      height: 32px;\n",
              "      padding: 0 0 0 0;\n",
              "      width: 32px;\n",
              "    }\n",
              "\n",
              "    .colab-df-convert:hover {\n",
              "      background-color: #E2EBFA;\n",
              "      box-shadow: 0px 1px 2px rgba(60, 64, 67, 0.3), 0px 1px 3px 1px rgba(60, 64, 67, 0.15);\n",
              "      fill: #174EA6;\n",
              "    }\n",
              "\n",
              "    [theme=dark] .colab-df-convert {\n",
              "      background-color: #3B4455;\n",
              "      fill: #D2E3FC;\n",
              "    }\n",
              "\n",
              "    [theme=dark] .colab-df-convert:hover {\n",
              "      background-color: #434B5C;\n",
              "      box-shadow: 0px 1px 3px 1px rgba(0, 0, 0, 0.15);\n",
              "      filter: drop-shadow(0px 1px 2px rgba(0, 0, 0, 0.3));\n",
              "      fill: #FFFFFF;\n",
              "    }\n",
              "  </style>\n",
              "\n",
              "      <script>\n",
              "        const buttonEl =\n",
              "          document.querySelector('#df-e9b3daa2-b9ea-46d6-b7ee-a717a4829ab2 button.colab-df-convert');\n",
              "        buttonEl.style.display =\n",
              "          google.colab.kernel.accessAllowed ? 'block' : 'none';\n",
              "\n",
              "        async function convertToInteractive(key) {\n",
              "          const element = document.querySelector('#df-e9b3daa2-b9ea-46d6-b7ee-a717a4829ab2');\n",
              "          const dataTable =\n",
              "            await google.colab.kernel.invokeFunction('convertToInteractive',\n",
              "                                                     [key], {});\n",
              "          if (!dataTable) return;\n",
              "\n",
              "          const docLinkHtml = 'Like what you see? Visit the ' +\n",
              "            '<a target=\"_blank\" href=https://colab.research.google.com/notebooks/data_table.ipynb>data table notebook</a>'\n",
              "            + ' to learn more about interactive tables.';\n",
              "          element.innerHTML = '';\n",
              "          dataTable['output_type'] = 'display_data';\n",
              "          await google.colab.output.renderOutput(dataTable, element);\n",
              "          const docLink = document.createElement('div');\n",
              "          docLink.innerHTML = docLinkHtml;\n",
              "          element.appendChild(docLink);\n",
              "        }\n",
              "      </script>\n",
              "    </div>\n",
              "  </div>\n",
              "  "
            ]
          },
          "metadata": {},
          "execution_count": 4
        }
      ]
    },
    {
      "cell_type": "code",
      "source": [
        "# To check for any null value in the dataframe\n",
        "df.isna().sum()"
      ],
      "metadata": {
        "colab": {
          "base_uri": "https://localhost:8080/"
        },
        "id": "5czYs-Fjr7Xf",
        "outputId": "321c7c40-5e65-45af-c28f-672c4befa277"
      },
      "execution_count": 5,
      "outputs": [
        {
          "output_type": "execute_result",
          "data": {
            "text/plain": [
              "date            0\n",
              "warehouse       0\n",
              "client_type     0\n",
              "product_line    0\n",
              "quantity        0\n",
              "unit_price      0\n",
              "total           0\n",
              "payment         0\n",
              "dtype: int64"
            ]
          },
          "metadata": {},
          "execution_count": 5
        }
      ]
    },
    {
      "cell_type": "code",
      "source": [
        "# QUESTION ONE\n",
        "#What are the total sales for each payment method?\n",
        "\n",
        "# To compute the solution to this question, we will use ‘groupby’ syntax to categorize the information in the “payment” column \n",
        "# With the corresponding total sum for each payment method.  \n",
        "\n",
        "df.groupby('payment').total.sum()"
      ],
      "metadata": {
        "colab": {
          "base_uri": "https://localhost:8080/"
        },
        "id": "fdIiC34qsBqf",
        "outputId": "1c2741a3-2d22-4312-f90a-47f5aff7e8fa"
      },
      "execution_count": 9,
      "outputs": [
        {
          "output_type": "execute_result",
          "data": {
            "text/plain": [
              "payment\n",
              "Cash            19199.10\n",
              "Credit card    110271.57\n",
              "Transfer       159642.33\n",
              "Name: total, dtype: float64"
            ]
          },
          "metadata": {},
          "execution_count": 9
        }
      ]
    },
    {
      "cell_type": "code",
      "source": [
        "#Thereafter, we will graphically display the obtained result using bar chart, with the payment method on the x-axis \n",
        "#and the corresponding total sales on the y-axis.\n",
        "\n",
        "payment_plot.plot(kind='bar', xlabel='payment_type', ylabel='Total Sales', title='THE PAYMENT METHOD VS TOTAL SALES', color =\"red\")\n",
        "plt.xticks(rotation=0)\n",
        "plt.show()"
      ],
      "metadata": {
        "colab": {
          "base_uri": "https://localhost:8080/",
          "height": 296
        },
        "id": "PfJlxyPZ8QgE",
        "outputId": "96c2261d-1f2d-4264-ee13-aa7d93b5899d"
      },
      "execution_count": 15,
      "outputs": [
        {
          "output_type": "display_data",
          "data": {
            "text/plain": [
              "<Figure size 432x288 with 1 Axes>"
            ],
            "image/png": "[encoded data removed]"
          },
          "metadata": {
            "needs_background": "light"
          }
        }
      ]
    },
    {
      "cell_type": "code",
      "source": [
        "# QUESTION TWO:  What is the average unit price for each product line?\n",
        "\n",
        "# From the information given, the product line depicts different type of products purchased. To evaluate the average unit price of each,\n",
        "# we will obtain the ‘mean’ of each product.\n",
        "\n",
        "df.groupby('product_line').unit_price.mean()\n"
      ],
      "metadata": {
        "colab": {
          "base_uri": "https://localhost:8080/"
        },
        "id": "ADuMq2vGsQlw",
        "outputId": "ac544d92-c5b0-4b46-8879-4ff6ec6bd8e3"
      },
      "execution_count": 22,
      "outputs": [
        {
          "output_type": "execute_result",
          "data": {
            "text/plain": [
              "product_line\n",
              "Breaking system          17.740522\n",
              "Electrical system        25.585130\n",
              "Engine                   60.091803\n",
              "Frame & body             42.832229\n",
              "Miscellaneous            22.810738\n",
              "Suspension & traction    33.969868\n",
              "Name: unit_price, dtype: float64"
            ]
          },
          "metadata": {},
          "execution_count": 22
        }
      ]
    },
    {
      "cell_type": "code",
      "source": [
        "# We will display the result graphically using horizontal barchart, “barh” with the graph of each product line on the x-axis\n",
        "# and the corresponding average price on the y-axis.\n",
        "\n",
        "product_line = df.groupby('product_line').unit_price.mean()\n",
        "product_line.plot(kind='barh', xlabel='product line', ylabel='average price',\n",
        "                  title='THE AVERAGE PRICE OF PRODUCT LINE')\n",
        "plt.xticks()\n",
        "plt.show()"
      ],
      "metadata": {
        "colab": {
          "base_uri": "https://localhost:8080/",
          "height": 281
        },
        "id": "1qdTVbtxLxgO",
        "outputId": "101208d1-4eea-441b-e60d-6fe3638b0c82"
      },
      "execution_count": 24,
      "outputs": [
        {
          "output_type": "display_data",
          "data": {
            "text/plain": [
              "<Figure size 432x288 with 1 Axes>"
            ],
            "image/png": "[encoded data removed]"
          },
          "metadata": {
            "needs_background": "light"
          }
        }
      ]
    },
    {
      "cell_type": "code",
      "source": [
        "# QUESTION THREE: Create plots to visualize findings for questions 1 and 2.\n",
        "\n",
        "# To compute the solution to this question, we will use this approach in addition to the profiles shown in question 1 and 2 above\n",
        "# For real time visualization and fair comparison of our findings in questions 1 and 2, use will be made of the ‘subplot’ function,\n",
        "# comprising of 1 row and 2 columns \n",
        "# For question 1, we first obtained the numerical values of each payment method, so as to create an array list and then display\n",
        "# the distribution in a pie chart as shown in subplot as[0]. The highest mode of payment is exploded as shown\n",
        "\n",
        "\n",
        "import numpy as np\n",
        "\n",
        "total_sales_mtd = np.array([19199.10, 110271.57, 159642.33])\n",
        "sales_labels = [\"Cash\", \"Credit card\", \"Transfer\"]\n",
        "myexplode = [0, 0, 0.1]\n",
        "fig, ax = plt.subplots(nrows=1, ncols=2, figsize=(8, 5))\n",
        "ax[0].pie(total_sales_mtd, labels = sales_labels, explode = myexplode, shadow = True)\n",
        "ax[0].legend(title = \"Payment methods:\")\n",
        "ax[0].set_title(\"PAYMENT METHOD VS TOTAL SALES\", fontsize=12)\n",
        "\n",
        "# For question 2, we will display the average pricce distribution for each product line\n",
        "data = df.groupby('product_line').unit_price.mean()\n",
        "ax[1].pie(data)\n",
        "ax[1].set_title(\"THE AVERAGE PRICE OF PRODUCT LINE\", fontsize=12)\n",
        "ax[1].legend(title = \"Average price of Product:\")\n",
        "plt.show()"
      ],
      "metadata": {
        "colab": {
          "base_uri": "https://localhost:8080/",
          "height": 267
        },
        "id": "AMb5mJ47LBfj",
        "outputId": "3f62cc2c-c0e5-4f38-f780-3f40f734f9ff"
      },
      "execution_count": 36,
      "outputs": [
        {
          "output_type": "stream",
          "name": "stderr",
          "text": [
            "WARNING:matplotlib.legend:No handles with labels found to put in legend.\n"
          ]
        },
        {
          "output_type": "display_data",
          "data": {
            "text/plain": [
              "<Figure size 576x360 with 2 Axes>"
            ],
            "image/png": "[encoded data removed]"
          },
          "metadata": {}
        }
      ]
    },
    {
      "cell_type": "code",
      "source": [
        "# QUESTION FOUR: [Optional] Investigate further (e.g., average purchase value by client type, total purchase value by product line, etc.)\n",
        "# 4a. The average purchase value by client type\n",
        "\n",
        "df.groupby('client_type').total.mean()"
      ],
      "metadata": {
        "colab": {
          "base_uri": "https://localhost:8080/"
        },
        "id": "NZ7FSOGpLv0P",
        "outputId": "0092ad4e-46f5-4feb-9226-c5f3df92f535"
      },
      "execution_count": 39,
      "outputs": [
        {
          "output_type": "execute_result",
          "data": {
            "text/plain": [
              "client_type\n",
              "Retail       167.058929\n",
              "Wholesale    709.521467\n",
              "Name: total, dtype: float64"
            ]
          },
          "metadata": {},
          "execution_count": 39
        }
      ]
    },
    {
      "cell_type": "code",
      "source": [
        " # Graphical representation \n",
        "client_plot.plot(kind='bar', xlabel='client_type', ylabel='average purchase value',title ='THE AVERAGE PURCHASE VALUE OF EACH CLIENT TYPE')\n",
        "plt.xticks()\n",
        "plt.show()"
      ],
      "metadata": {
        "colab": {
          "base_uri": "https://localhost:8080/",
          "height": 338
        },
        "id": "0XvIqFPFSH3E",
        "outputId": "9d66fbf0-3ecc-4f78-9362-2ad9d92b2fbf"
      },
      "execution_count": 84,
      "outputs": [
        {
          "output_type": "display_data",
          "data": {
            "text/plain": [
              "<Figure size 432x288 with 1 Axes>"
            ],
            "image/png": "[encoded data removed]"
          },
          "metadata": {
            "needs_background": "light"
          }
        }
      ]
    },
    {
      "cell_type": "code",
      "source": [
        "# 4b Evaluate the total purchase value by product line\n",
        "\n",
        "product_total = df.groupby('product_line').total.sum().sort_values(ascending=True)\n",
        "product_total\n"
      ],
      "metadata": {
        "colab": {
          "base_uri": "https://localhost:8080/"
        },
        "id": "nspmLqlILrvV",
        "outputId": "99a9c2e7-8d95-434b-98ed-0e9a269a99b3"
      },
      "execution_count": 52,
      "outputs": [
        {
          "output_type": "execute_result",
          "data": {
            "text/plain": [
              "product_line\n",
              "Miscellaneous            27165.82\n",
              "Engine                   37945.38\n",
              "Breaking system          38350.15\n",
              "Electrical system        43612.71\n",
              "Frame & body             69024.73\n",
              "Suspension & traction    73014.21\n",
              "Name: total, dtype: float64"
            ]
          },
          "metadata": {},
          "execution_count": 52
        }
      ]
    },
    {
      "cell_type": "code",
      "source": [
        "# Graphical representation\n",
        "product_total.plot(kind='bar', xlabel='Product line', ylabel='Total purchase value',\n",
        "                   title='TOTAL SALES OF EACH PRODUCT LINE',color = \"green\")\n",
        "\n",
        "plt.xticks(rotation=90)\n",
        "plt.show()"
      ],
      "metadata": {
        "colab": {
          "base_uri": "https://localhost:8080/",
          "height": 395
        },
        "id": "oJU8M2EaXE6C",
        "outputId": "ee0d268a-d089-4e6c-e930-69f91b0f4c5a"
      },
      "execution_count": 65,
      "outputs": [
        {
          "output_type": "display_data",
          "data": {
            "text/plain": [
              "<Figure size 432x288 with 1 Axes>"
            ],
            "image/png": "[encoded data removed]"
          },
          "metadata": {
            "needs_background": "light"
          }
        }
      ]
    },
    {
      "cell_type": "code",
      "source": [
        "### 4c We will investigate the correlation between the three warehouses and the quantity of each product sold in each location\n",
        "\n",
        "# We will use pivot table in pandas as it's a suitable function in this regard\n",
        "\n",
        "df.pivot_table(index=['warehouse'], columns=[\"product_line\"], values=['quantity'], aggfunc=[np.sum])"
      ],
      "metadata": {
        "colab": {
          "base_uri": "https://localhost:8080/",
          "height": 237
        },
        "id": "fUnzXaWFcmvo",
        "outputId": "e37de8d8-679f-4b97-f50b-de712bf23fb9"
      },
      "execution_count": 75,
      "outputs": [
        {
          "output_type": "execute_result",
          "data": {
            "text/plain": [
              "                         sum                                        \\\n",
              "                    quantity                                         \n",
              "product_line Breaking system Electrical system Engine Frame & body   \n",
              "warehouse                                                            \n",
              "Central                 1024               838    449          698   \n",
              "North                    605               607    122          675   \n",
              "West                     501               253     56          246   \n",
              "\n",
              "                                                  \n",
              "                                                  \n",
              "product_line Miscellaneous Suspension & traction  \n",
              "warehouse                                         \n",
              "Central                538                   980  \n",
              "North                  379                   866  \n",
              "West                   259                   299  "
            ],
            "text/html": [
              "\n",
              "  <div id=\"df-4fc83a84-7c29-4739-b9c7-4a305752542d\">\n",
              "    <div class=\"colab-df-container\">\n",
              "      <div>\n",
              "<style scoped>\n",
              "    .dataframe tbody tr th:only-of-type {\n",
              "        vertical-align: middle;\n",
              "    }\n",
              "\n",
              "    .dataframe tbody tr th {\n",
              "        vertical-align: top;\n",
              "    }\n",
              "\n",
              "    .dataframe thead tr th {\n",
              "        text-align: left;\n",
              "    }\n",
              "\n",
              "    .dataframe thead tr:last-of-type th {\n",
              "        text-align: right;\n",
              "    }\n",
              "</style>\n",
              "<table border=\"1\" class=\"dataframe\">\n",
              "  <thead>\n",
              "    <tr>\n",
              "      <th></th>\n",
              "      <th colspan=\"6\" halign=\"left\">sum</th>\n",
              "    </tr>\n",
              "    <tr>\n",
              "      <th></th>\n",
              "      <th colspan=\"6\" halign=\"left\">quantity</th>\n",
              "    </tr>\n",
              "    <tr>\n",
              "      <th>product_line</th>\n",
              "      <th>Breaking system</th>\n",
              "      <th>Electrical system</th>\n",
              "      <th>Engine</th>\n",
              "      <th>Frame &amp; body</th>\n",
              "      <th>Miscellaneous</th>\n",
              "      <th>Suspension &amp; traction</th>\n",
              "    </tr>\n",
              "    <tr>\n",
              "      <th>warehouse</th>\n",
              "      <th></th>\n",
              "      <th></th>\n",
              "      <th></th>\n",
              "      <th></th>\n",
              "      <th></th>\n",
              "      <th></th>\n",
              "    </tr>\n",
              "  </thead>\n",
              "  <tbody>\n",
              "    <tr>\n",
              "      <th>Central</th>\n",
              "      <td>1024</td>\n",
              "      <td>838</td>\n",
              "      <td>449</td>\n",
              "      <td>698</td>\n",
              "      <td>538</td>\n",
              "      <td>980</td>\n",
              "    </tr>\n",
              "    <tr>\n",
              "      <th>North</th>\n",
              "      <td>605</td>\n",
              "      <td>607</td>\n",
              "      <td>122</td>\n",
              "      <td>675</td>\n",
              "      <td>379</td>\n",
              "      <td>866</td>\n",
              "    </tr>\n",
              "    <tr>\n",
              "      <th>West</th>\n",
              "      <td>501</td>\n",
              "      <td>253</td>\n",
              "      <td>56</td>\n",
              "      <td>246</td>\n",
              "      <td>259</td>\n",
              "      <td>299</td>\n",
              "    </tr>\n",
              "  </tbody>\n",
              "</table>\n",
              "</div>\n",
              "      <button class=\"colab-df-convert\" onclick=\"convertToInteractive('df-4fc83a84-7c29-4739-b9c7-4a305752542d')\"\n",
              "              title=\"Convert this dataframe to an interactive table.\"\n",
              "              style=\"display:none;\">\n",
              "        \n",
              "  <svg xmlns=\"http://www.w3.org/2000/svg\" height=\"24px\"viewBox=\"0 0 24 24\"\n",
              "       width=\"24px\">\n",
              "    <path d=\"M0 0h24v24H0V0z\" fill=\"none\"/>\n",
              "    <path d=\"M18.56 5.44l.94 2.06.94-2.06 2.06-.94-2.06-.94-.94-2.06-.94 2.06-2.06.94zm-11 1L8.5 8.5l.94-2.06 2.06-.94-2.06-.94L8.5 2.5l-.94 2.06-2.06.94zm10 10l.94 2.06.94-2.06 2.06-.94-2.06-.94-.94-2.06-.94 2.06-2.06.94z\"/><path d=\"M17.41 7.96l-1.37-1.37c-.4-.4-.92-.59-1.43-.59-.52 0-1.04.2-1.43.59L10.3 9.45l-7.72 7.72c-.78.78-.78 2.05 0 2.83L4 21.41c.39.39.9.59 1.41.59.51 0 1.02-.2 1.41-.59l7.78-7.78 2.81-2.81c.8-.78.8-2.07 0-2.86zM5.41 20L4 18.59l7.72-7.72 1.47 1.35L5.41 20z\"/>\n",
              "  </svg>\n",
              "      </button>\n",
              "      \n",
              "  <style>\n",
              "    .colab-df-container {\n",
              "      display:flex;\n",
              "      flex-wrap:wrap;\n",
              "      gap: 12px;\n",
              "    }\n",
              "\n",
              "    .colab-df-convert {\n",
              "      background-color: #E8F0FE;\n",
              "      border: none;\n",
              "      border-radius: 50%;\n",
              "      cursor: pointer;\n",
              "      display: none;\n",
              "      fill: #1967D2;\n",
              "      height: 32px;\n",
              "      padding: 0 0 0 0;\n",
              "      width: 32px;\n",
              "    }\n",
              "\n",
              "    .colab-df-convert:hover {\n",
              "      background-color: #E2EBFA;\n",
              "      box-shadow: 0px 1px 2px rgba(60, 64, 67, 0.3), 0px 1px 3px 1px rgba(60, 64, 67, 0.15);\n",
              "      fill: #174EA6;\n",
              "    }\n",
              "\n",
              "    [theme=dark] .colab-df-convert {\n",
              "      background-color: #3B4455;\n",
              "      fill: #D2E3FC;\n",
              "    }\n",
              "\n",
              "    [theme=dark] .colab-df-convert:hover {\n",
              "      background-color: #434B5C;\n",
              "      box-shadow: 0px 1px 3px 1px rgba(0, 0, 0, 0.15);\n",
              "      filter: drop-shadow(0px 1px 2px rgba(0, 0, 0, 0.3));\n",
              "      fill: #FFFFFF;\n",
              "    }\n",
              "  </style>\n",
              "\n",
              "      <script>\n",
              "        const buttonEl =\n",
              "          document.querySelector('#df-4fc83a84-7c29-4739-b9c7-4a305752542d button.colab-df-convert');\n",
              "        buttonEl.style.display =\n",
              "          google.colab.kernel.accessAllowed ? 'block' : 'none';\n",
              "\n",
              "        async function convertToInteractive(key) {\n",
              "          const element = document.querySelector('#df-4fc83a84-7c29-4739-b9c7-4a305752542d');\n",
              "          const dataTable =\n",
              "            await google.colab.kernel.invokeFunction('convertToInteractive',\n",
              "                                                     [key], {});\n",
              "          if (!dataTable) return;\n",
              "\n",
              "          const docLinkHtml = 'Like what you see? Visit the ' +\n",
              "            '<a target=\"_blank\" href=https://colab.research.google.com/notebooks/data_table.ipynb>data table notebook</a>'\n",
              "            + ' to learn more about interactive tables.';\n",
              "          element.innerHTML = '';\n",
              "          dataTable['output_type'] = 'display_data';\n",
              "          await google.colab.output.renderOutput(dataTable, element);\n",
              "          const docLink = document.createElement('div');\n",
              "          docLink.innerHTML = docLinkHtml;\n",
              "          element.appendChild(docLink);\n",
              "        }\n",
              "      </script>\n",
              "    </div>\n",
              "  </div>\n",
              "  "
            ]
          },
          "metadata": {},
          "execution_count": 75
        }
      ]
    },
    {
      "cell_type": "code",
      "source": [
        "warehouse_prodline= df.pivot_table(index=['warehouse'], columns=[\"product_line\"], values=['quantity'], aggfunc=[np.sum])\n",
        "warehouse_prodline.plot(kind='bar', xlabel='warehouses', ylabel='quantity of product sold', title='Quantity of each product line sold per warehouse ', figsize=(20,20))\n",
        "plt.show()"
      ],
      "metadata": {
        "colab": {
          "base_uri": "https://localhost:8080/",
          "height": 1000
        },
        "id": "ils5XSZNdRTv",
        "outputId": "546b6734-e4c8-43a6-d303-1db19d012e29"
      },
      "execution_count": 80,
      "outputs": [
        {
          "output_type": "display_data",
          "data": {
            "text/plain": [
              "<Figure size 1440x1440 with 1 Axes>"
            ],
            "image/png": "[encoded data removed]"
          },
          "metadata": {
            "needs_background": "light"
          }
        }
      ]
    },
    {
      "cell_type": "code",
      "source": [
        "# - Let's investigate further: Which warehouse has the highest total sale?\n",
        "\n",
        "df.groupby('warehouse').total.sum()"
      ],
      "metadata": {
        "colab": {
          "base_uri": "https://localhost:8080/"
        },
        "id": "jMROWBIhfOsW",
        "outputId": "db3e1557-04c0-4ccd-ed5c-3eac649ec59e"
      },
      "execution_count": 81,
      "outputs": [
        {
          "output_type": "execute_result",
          "data": {
            "text/plain": [
              "warehouse\n",
              "Central    141982.88\n",
              "North      100203.63\n",
              "West        46926.49\n",
              "Name: total, dtype: float64"
            ]
          },
          "metadata": {},
          "execution_count": 81
        }
      ]
    },
    {
      "cell_type": "code",
      "source": [
        "# What category of client patronize the warehouse with the highest total sale?\n",
        "# We will use the crosstab function in pandas for the comparison\n",
        "\n",
        "pd.crosstab(df.warehouse, df.client_type)"
      ],
      "metadata": {
        "colab": {
          "base_uri": "https://localhost:8080/",
          "height": 175
        },
        "id": "JX1rj45LfmXo",
        "outputId": "ddf0e8c0-4a2a-42aa-bb41-b7162c329111"
      },
      "execution_count": 82,
      "outputs": [
        {
          "output_type": "execute_result",
          "data": {
            "text/plain": [
              "client_type  Retail  Wholesale\n",
              "warehouse                     \n",
              "Central         371        109\n",
              "North           263         77\n",
              "West            141         39"
            ],
            "text/html": [
              "\n",
              "  <div id=\"df-3e569931-2aae-4d15-880c-0a4418e6b04b\">\n",
              "    <div class=\"colab-df-container\">\n",
              "      <div>\n",
              "<style scoped>\n",
              "    .dataframe tbody tr th:only-of-type {\n",
              "        vertical-align: middle;\n",
              "    }\n",
              "\n",
              "    .dataframe tbody tr th {\n",
              "        vertical-align: top;\n",
              "    }\n",
              "\n",
              "    .dataframe thead th {\n",
              "        text-align: right;\n",
              "    }\n",
              "</style>\n",
              "<table border=\"1\" class=\"dataframe\">\n",
              "  <thead>\n",
              "    <tr style=\"text-align: right;\">\n",
              "      <th>client_type</th>\n",
              "      <th>Retail</th>\n",
              "      <th>Wholesale</th>\n",
              "    </tr>\n",
              "    <tr>\n",
              "      <th>warehouse</th>\n",
              "      <th></th>\n",
              "      <th></th>\n",
              "    </tr>\n",
              "  </thead>\n",
              "  <tbody>\n",
              "    <tr>\n",
              "      <th>Central</th>\n",
              "      <td>371</td>\n",
              "      <td>109</td>\n",
              "    </tr>\n",
              "    <tr>\n",
              "      <th>North</th>\n",
              "      <td>263</td>\n",
              "      <td>77</td>\n",
              "    </tr>\n",
              "    <tr>\n",
              "      <th>West</th>\n",
              "      <td>141</td>\n",
              "      <td>39</td>\n",
              "    </tr>\n",
              "  </tbody>\n",
              "</table>\n",
              "</div>\n",
              "      <button class=\"colab-df-convert\" onclick=\"convertToInteractive('df-3e569931-2aae-4d15-880c-0a4418e6b04b')\"\n",
              "              title=\"Convert this dataframe to an interactive table.\"\n",
              "              style=\"display:none;\">\n",
              "        \n",
              "  <svg xmlns=\"http://www.w3.org/2000/svg\" height=\"24px\"viewBox=\"0 0 24 24\"\n",
              "       width=\"24px\">\n",
              "    <path d=\"M0 0h24v24H0V0z\" fill=\"none\"/>\n",
              "    <path d=\"M18.56 5.44l.94 2.06.94-2.06 2.06-.94-2.06-.94-.94-2.06-.94 2.06-2.06.94zm-11 1L8.5 8.5l.94-2.06 2.06-.94-2.06-.94L8.5 2.5l-.94 2.06-2.06.94zm10 10l.94 2.06.94-2.06 2.06-.94-2.06-.94-.94-2.06-.94 2.06-2.06.94z\"/><path d=\"M17.41 7.96l-1.37-1.37c-.4-.4-.92-.59-1.43-.59-.52 0-1.04.2-1.43.59L10.3 9.45l-7.72 7.72c-.78.78-.78 2.05 0 2.83L4 21.41c.39.39.9.59 1.41.59.51 0 1.02-.2 1.41-.59l7.78-7.78 2.81-2.81c.8-.78.8-2.07 0-2.86zM5.41 20L4 18.59l7.72-7.72 1.47 1.35L5.41 20z\"/>\n",
              "  </svg>\n",
              "      </button>\n",
              "      \n",
              "  <style>\n",
              "    .colab-df-container {\n",
              "      display:flex;\n",
              "      flex-wrap:wrap;\n",
              "      gap: 12px;\n",
              "    }\n",
              "\n",
              "    .colab-df-convert {\n",
              "      background-color: #E8F0FE;\n",
              "      border: none;\n",
              "      border-radius: 50%;\n",
              "      cursor: pointer;\n",
              "      display: none;\n",
              "      fill: #1967D2;\n",
              "      height: 32px;\n",
              "      padding: 0 0 0 0;\n",
              "      width: 32px;\n",
              "    }\n",
              "\n",
              "    .colab-df-convert:hover {\n",
              "      background-color: #E2EBFA;\n",
              "      box-shadow: 0px 1px 2px rgba(60, 64, 67, 0.3), 0px 1px 3px 1px rgba(60, 64, 67, 0.15);\n",
              "      fill: #174EA6;\n",
              "    }\n",
              "\n",
              "    [theme=dark] .colab-df-convert {\n",
              "      background-color: #3B4455;\n",
              "      fill: #D2E3FC;\n",
              "    }\n",
              "\n",
              "    [theme=dark] .colab-df-convert:hover {\n",
              "      background-color: #434B5C;\n",
              "      box-shadow: 0px 1px 3px 1px rgba(0, 0, 0, 0.15);\n",
              "      filter: drop-shadow(0px 1px 2px rgba(0, 0, 0, 0.3));\n",
              "      fill: #FFFFFF;\n",
              "    }\n",
              "  </style>\n",
              "\n",
              "      <script>\n",
              "        const buttonEl =\n",
              "          document.querySelector('#df-3e569931-2aae-4d15-880c-0a4418e6b04b button.colab-df-convert');\n",
              "        buttonEl.style.display =\n",
              "          google.colab.kernel.accessAllowed ? 'block' : 'none';\n",
              "\n",
              "        async function convertToInteractive(key) {\n",
              "          const element = document.querySelector('#df-3e569931-2aae-4d15-880c-0a4418e6b04b');\n",
              "          const dataTable =\n",
              "            await google.colab.kernel.invokeFunction('convertToInteractive',\n",
              "                                                     [key], {});\n",
              "          if (!dataTable) return;\n",
              "\n",
              "          const docLinkHtml = 'Like what you see? Visit the ' +\n",
              "            '<a target=\"_blank\" href=https://colab.research.google.com/notebooks/data_table.ipynb>data table notebook</a>'\n",
              "            + ' to learn more about interactive tables.';\n",
              "          element.innerHTML = '';\n",
              "          dataTable['output_type'] = 'display_data';\n",
              "          await google.colab.output.renderOutput(dataTable, element);\n",
              "          const docLink = document.createElement('div');\n",
              "          docLink.innerHTML = docLinkHtml;\n",
              "          element.appendChild(docLink);\n",
              "        }\n",
              "      </script>\n",
              "    </div>\n",
              "  </div>\n",
              "  "
            ]
          },
          "metadata": {},
          "execution_count": 82
        }
      ]
    },
    {
      "cell_type": "code",
      "source": [
        "warehouse_comparison = pd.crosstab(df.warehouse, df.client_type)\n",
        "warehouse_comparison.plot(kind='bar')\n",
        "plt.show()"
      ],
      "metadata": {
        "colab": {
          "base_uri": "https://localhost:8080/",
          "height": 306
        },
        "id": "L7q7K0wdgzSM",
        "outputId": "4251a18c-3485-40ae-e2e0-124b51deb472"
      },
      "execution_count": 83,
      "outputs": [
        {
          "output_type": "display_data",
          "data": {
            "text/plain": [
              "<Figure size 432x288 with 1 Axes>"
            ],
            "image/png": "[encoded data removed]"
          },
          "metadata": {
            "needs_background": "light"
          }
        }
      ]
    },
    {
      "cell_type": "markdown",
      "source": [
        "Conclusion\n",
        "*  From the result obtained in question 1, the most prefered mode of payment is mobile transfer method, followed by credit card and cash payment mode. This could be due to cashless policy been mostly adopted in the three warehouse locations.\n",
        "\n",
        "* Result obtained in question 2 revealed that motorcycle engine is the most expensive spare parts followed by the frame work compenents. Hence, adequate preventive measures must be put in place to avoid damage during storage.\n",
        "\n",
        "* As expected, result of 4a indicated that the wholesalers have more purchasing power than the retailers\n",
        "\n",
        "* Results obtained in 4b indicated that most maintenance work were carried out on the framework and body parts of most motorcyles within this period. This might be due to bad road networks, careless driving and so on\n",
        "\n",
        "\n",
        "* Results of 4c and 4d revealed that highest sales of product was experienced in the Central zone , with braking system and framework body parts products having the highest sale in this region. Also, of all the three zones, most engine parts are sold in this region within this period, with retailers having more patronage. Adulterated fuel or aged motorcycles might be responsible for this.\n",
        "\n",
        "However, direct sale to the retailers is more profitable than the wholesaler which is good for the business\n",
        "\n"
      ],
      "metadata": {
        "id": "YG-Pq_E4hDuZ"
      }
    }
  ]
}